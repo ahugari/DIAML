{
  "cells": [
    {
      "cell_type": "markdown",
      "metadata": {
        "id": "WX_nCIRo84v4"
      },
      "source": [
        "**DATA, INFERENCE & APPLIED MACHINE LEARNING (COURSE 18-785)\n",
        "ASSIGNMENT 0**\n",
        "\n",
        "**Mark Iraguha  (miraguha)**\n",
        "\n",
        "\n",
        "--------\n",
        "\n",
        "**Introduction:**\n",
        "\n",
        "The purpose of this report is to outline the steps, results and insights of assignment 0 of the DIAML course. The assignment is to achieve the goal of successfully printing out the full course name to the console as well as defining and calculating the total of 3 famous mathematical constants i.e. Pi, Eulers Constant (e) and the Golden Ratio.\n",
        "\n",
        "**Libraries Used:**\n",
        "None.\n",
        "\n",
        "\n",
        "**Steps:**\n",
        "\n",
        "1. Printing the course name Data, Inference & Applied Machine Learning to the console:\n",
        "\n",
        "  *Step 1:* I have used the \"print()\" built-in function to print out the full course name as a string.\n",
        "\n",
        "2. Defining and calculating the sum of three famous mathematical constants:\n",
        "\n",
        "  *Step 1:* In order to calculate the sum of three famous mathematical constants, I have declared the constants individually giving each of them meaningful names.\n",
        "\n",
        "  *Step 2:* Finally, I have utilized the \"print()\" built-in function to print out the sum of these constants.\n",
        "\n",
        "**Results:**\n",
        "1. Printing the course name Data, Inference & Applied Machine Learning to the console:\n",
        "  - The DIAML course name is printed to the standard console successfully.\n",
        "\n",
        "2. Defining and calculating the sum of three famous mathematical constants:\n",
        "  - The the mathematical constants defined are called and the sum is printed to the standard console as a float data type.\n",
        "\n",
        "**Insights:**\n",
        "\n",
        "1.\tSimplicity: The fact that python is a dynamically typed language[1], the code written to achieve the stated goal is short and precise. This promotes clean and simple code that is easy to read and interpret even when writing large algorithms.\n",
        "2.\tEulers constant: This is a mathematical constant that’s also an irrational number that represents the natural logarithm.  It also represents exponential growth or decay.[2]\n",
        "3.\tPi Archimedes’ constant (π): This mathematical constant is also known as Archimedes’ constant and represents the ratio of the circumference of a circle to its diameter.[2]\n",
        "4.\tGolden Ratio (φ): This is an irrational mathematical constant that is commonly seen in geometry.[2]\n",
        "\n",
        " \n",
        "References:\n",
        "[1]\t“Python (programming language),” Wikipedia. Aug. 30, 2024. Accessed: Aug. 30, 2024. [Online]. Available: https://en.wikipedia.org/w/index.php?title=Python_(programming_language)&oldid=1243069035#cite_note-34\n",
        "[2]\t“Mathematical constant,” Wikipedia. Aug. 26, 2024. Accessed: Aug. 30, 2024. [Online]. Available: https://en.wikipedia.org/w/index.php?title=Mathematical_constant&oldid=1242293347#cite_note-8\n",
        "\n",
        "\n",
        "\n",
        "\n",
        "--------\n",
        "\n",
        "I, the undersigned, have read the entire syllabus for course 18-785 (Data Inference and Applied\n",
        "Machine Learning). I agree with the terms and conditions of participating in this course, including adherence to CMU's AIV policy.\n",
        "\n",
        "Signature: Mark Iraguha\n",
        "\n",
        "Andrew ID: miraguha\n",
        "\n",
        "Full Name: Mark Iraguha\n",
        "\n",
        "-------\n"
      ]
    },
    {
      "cell_type": "code",
      "execution_count": null,
      "metadata": {
        "colab": {
          "base_uri": "https://localhost:8080/"
        },
        "id": "asI-6QUy_cHF",
        "outputId": "f3de8ceb-73e2-494d-c8bd-5ac6b01b05ac"
      },
      "outputs": [
        {
          "name": "stdout",
          "output_type": "stream",
          "text": [
            "Hello Data Inference and Applied Machine Learning\n",
            "7.4778744784\n"
          ]
        }
      ],
      "source": [
        "print('Hello Data Inference and Applied Machine Learning')\n",
        "\n",
        "#pi is an important mathmatical constant that represents the ratio of the\n",
        "# circumferance of a circle to its diameter.\n",
        "pi = 3.14159265\n",
        "\n",
        "# Eulers constant is an irrational number (cannot be represented as a simple fraction) that is the base for natural algorithms.\n",
        "e = 2.7182818284\n",
        "\n",
        "# The golden ratio is a mathematical constant that represents the idea that the\n",
        "# length of a line divided by its longest half is equal to the length of the\n",
        "# longer part divided by the shorter part of the line. It is found and used in geometry, architecture and art.\n",
        "phi = 1.618\n",
        "\n",
        "print(pi+e+phi)"
      ]
    }
  ],
  "metadata": {
    "colab": {
      "provenance": []
    },
    "kernelspec": {
      "display_name": "Python 3",
      "name": "python3"
    },
    "language_info": {
      "name": "python"
    }
  },
  "nbformat": 4,
  "nbformat_minor": 0
}
