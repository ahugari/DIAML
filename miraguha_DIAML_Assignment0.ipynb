{
  "nbformat": 4,
  "nbformat_minor": 0,
  "metadata": {
    "colab": {
      "provenance": [],
      "authorship_tag": "ABX9TyPaHcluVYxcWrIQXtXgUB7j",
      "include_colab_link": true
    },
    "kernelspec": {
      "name": "python3",
      "display_name": "Python 3"
    },
    "language_info": {
      "name": "python"
    }
  },
  "cells": [
    {
      "cell_type": "markdown",
      "metadata": {
        "id": "view-in-github",
        "colab_type": "text"
      },
      "source": [
        "<a href=\"https://colab.research.google.com/github/ahugari/DIAML/blob/main/miraguha_DIAML_Assignment0.ipynb\" target=\"_parent\"><img src=\"https://colab.research.google.com/assets/colab-badge.svg\" alt=\"Open In Colab\"/></a>"
      ]
    },
    {
      "cell_type": "markdown",
      "source": [
        "**DATA, INFERENCE & APPLIED MACHINE LEARNING (COURSE 18-785)\n",
        "ASSIGNMENT 0**\n",
        "\n",
        "--------\n",
        "\n",
        "**Introduction:**\n",
        "\n",
        "The purpose of this report is to outline the steps, results and insights of assignment 0 of the DIAML course. The assignment is to achieve the goal of successfully printing out the full course name to the console as well as defining and calculating the total of 3 famous mathematical constants i.e. Pi, Eulers Constant (e) and the Golden Ratio.\n",
        "\n",
        "**Steps:**\n",
        "\n",
        "1. Printing the course name Data, Inference & Applied Machine Learning to the console:\n",
        "\n",
        "  *Step 1:* I have used the \"print()\" built-in function to print out the full course name as a string.\n",
        "\n",
        "2. Defining and calculating the sum of three famous mathemtical constants:\n",
        "\n",
        "  *Step 1:* In order to calculate the sum of three famous mathematical constants, I have declared the constants individually giving each of them meaningful names.\n",
        "\n",
        "  *Step 2:* Finally, I have utilized the \"print()\" built-in function to\n",
        "\n",
        "**Results:**\n",
        "1. Printing the course name Data, Inference & Applied Machine Learning to the console:\n",
        "  - The DIAML course name is printed to the standard console successully.\n",
        "\n",
        "2. Defining and calculating the sum of three famous mathemtical constants:\n",
        "  - The the mathematical constants defined are called and the sum is printed to the stardard console as a float data type.\n",
        "\n",
        "**Insights:**\n",
        "\n",
        "1. Simplicity:\n",
        "  The fact that python is a dynamically typed language, the code written to achieve the stated goal is short and precise. This promotes clean and simple code that is easy to read and interpret even when writing large algorithms.\n",
        "\n",
        "--------\n",
        "\n",
        "I, the undersigned, have read the entire syllabus for course 18-785 (Data Inference and Applied\n",
        "Machine Learning). I agree with the terms and conditions of participating in this course, including adherence to CMU's AIV policy.\n",
        "\n",
        "Signature: Mark Iraguha\n",
        "\n",
        "Andrew ID: miraguha\n",
        "\n",
        "Full Name: Mark Iraguha\n",
        "\n",
        "-------\n"
      ],
      "metadata": {
        "id": "WX_nCIRo84v4"
      }
    },
    {
      "cell_type": "code",
      "execution_count": null,
      "metadata": {
        "colab": {
          "base_uri": "https://localhost:8080/"
        },
        "id": "asI-6QUy_cHF",
        "outputId": "f3de8ceb-73e2-494d-c8bd-5ac6b01b05ac"
      },
      "outputs": [
        {
          "output_type": "stream",
          "name": "stdout",
          "text": [
            "Hello Data Inference and Applied Machine Learning\n",
            "7.4778744784\n"
          ]
        }
      ],
      "source": [
        "print('Hello Data Inference and Applied Machine Learning')\n",
        "\n",
        "#pi is an important mathmatical constant that represents the ratio of the\n",
        "# circumferance of a circle to its diameter.\n",
        "pi = 3.14159265\n",
        "\n",
        "# Eulers constant is an irrational number (cannot be represented as a simple fraction) that is the base for natural algorithms.\n",
        "e = 2.7182818284\n",
        "\n",
        "# The golden ratio is a mathematical constant that represents the idea that the\n",
        "# length of a line divided by its longest half is equal to the length of the\n",
        "# longer part divided by the shorter part of the line. It is found and used in geometry, architecture and art.\n",
        "phi = 1.618\n",
        "\n",
        "print(pi+e+phi)"
      ]
    }
  ]
}