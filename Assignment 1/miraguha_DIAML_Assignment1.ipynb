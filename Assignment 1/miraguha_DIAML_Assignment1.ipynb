{
 "cells": [
  {
   "cell_type": "markdown",
   "metadata": {},
   "source": [
    "Question 1:"
   ]
  },
  {
   "cell_type": "code",
   "execution_count": 3,
   "metadata": {},
   "outputs": [
    {
     "name": "stdout",
     "output_type": "stream",
     "text": [
      "23\n",
      "Total number of folds required to exceed mount everest:  24\n"
     ]
    }
   ],
   "source": [
    "paperThickness = 1\n",
    "everestHeight = 8848\n",
    "numberOfFolds = 0\n",
    "#convert 1mm to 1m\n",
    "paperThicknessInMeters = paperThickness/1000\n",
    "\n",
    "# Because we don't want to surpass the height of everest, we add a check for it \n",
    "while((paperThicknessInMeters*2)<everestHeight):\n",
    "    # since the thickness of the paper doubles exponentially, \n",
    "    # we multiply the thickness by 2\n",
    "    paperThicknessInMeters*=2\n",
    "    numberOfFolds+=1    \n",
    "    \n",
    "# the number of folds it would take to exceed the height of mount everest would be\n",
    "# the current number of folds plus one, since the current number does not exceed \n",
    "# the height of mt. everest\n",
    "print(\"Total number of folds required to exceed mount everest: \", numberOfFolds+1)\n"
   ]
  },
  {
   "cell_type": "markdown",
   "metadata": {},
   "source": [
    "Question 2:"
   ]
  },
  {
   "cell_type": "code",
   "execution_count": 132,
   "metadata": {},
   "outputs": [
    {
     "name": "stdout",
     "output_type": "stream",
     "text": [
      "8\n"
     ]
    }
   ],
   "source": [
    "# to use the exp method\n",
    "import math\n",
    "\n",
    "initial_vol = 10000\n",
    "time_spent=0\n",
    "half_life = initial_vol/2\n",
    "current_d_vol = initial_vol\n",
    "# condition checks to see if the current volume of water is more than\n",
    "# half of the initial volume\n",
    "while(current_d_vol>half_life):\n",
    "    # here we apply the water exponential decay formula\n",
    "    current_d_vol = initial_vol*math.exp(-0.1*time_spent)\n",
    "    # for each iteration we increase our time counter\n",
    "    time_spent+=1\n",
    "    \n",
    "print(time_spent)"
   ]
  },
  {
   "cell_type": "markdown",
   "metadata": {},
   "source": [
    "Question 3:"
   ]
  },
  {
   "cell_type": "code",
   "execution_count": 24,
   "metadata": {},
   "outputs": [
    {
     "name": "stdout",
     "output_type": "stream",
     "text": [
      "105\n",
      "110\n",
      "116\n",
      "122\n",
      "128\n"
     ]
    }
   ],
   "source": [
    "# to utilize the trunc method\n",
    "import math\n",
    "\n",
    "deposit = 100\n",
    "annualized_interest_rate = 0.05\n",
    "months_in_year = 12\n",
    "max_interest_years =5\n",
    "current_year=1\n",
    "\n",
    "while(current_year<=max_interest_years): \n",
    "    # here we apply the compound interest formula \n",
    "    annualized_interest_after_year=deposit*(1+(annualized_interest_rate/months_in_year))**(months_in_year*current_year)\n",
    "    \n",
    "    print(str(math.trunc(annualized_interest_after_year)))\n",
    "    current_year+=1\n"
   ]
  },
  {
   "cell_type": "markdown",
   "metadata": {},
   "source": [
    "Question 4:"
   ]
  },
  {
   "cell_type": "code",
   "execution_count": 33,
   "metadata": {},
   "outputs": [
    {
     "name": "stdout",
     "output_type": "stream",
     "text": [
      "1776\n",
      "941\n",
      "664\n"
     ]
    }
   ],
   "source": [
    "# to utilize the trunc method\n",
    "import math\n",
    "\n",
    "car_value = 20_000\n",
    "monthly_interest = 0.01\n",
    "loan_term = 1\n",
    "max_loan_term = 3\n",
    "monthly_payment = 0\n",
    "\n",
    "while(loan_term<=max_loan_term):\n",
    "    # get the total number of payments for the current loan term \n",
    "    total_number_of_payments = 12*loan_term\n",
    "    \n",
    "    # apply the loan payment formula\n",
    "    monthly_payment =(car_value*monthly_interest)/(1-(1+monthly_interest)**-total_number_of_payments)\n",
    "    \n",
    "    print(math.trunc(monthly_payment))\n",
    "    loan_term+=1    \n"
   ]
  },
  {
   "cell_type": "markdown",
   "metadata": {},
   "source": [
    "Question 5:"
   ]
  },
  {
   "cell_type": "code",
   "execution_count": 20,
   "metadata": {},
   "outputs": [
    {
     "name": "stdout",
     "output_type": "stream",
     "text": [
      "Day: 1 | Profit: 1000\n",
      "Day: 2 | Profit: 2010\n",
      "Day: 3 | Profit: 3030\n",
      "Day: 4 | Profit: 4060\n",
      "Day: 5 | Profit: 5100\n",
      "Day: 6 | Profit: 6150\n",
      "Day: 7 | Profit: 7210\n",
      "Day: 8 | Profit: 8280\n",
      "Day: 9 | Profit: 9360\n",
      "Day: 10 | Profit: 10450\n",
      "Day: 11 | Profit: 11550\n",
      "Day: 12 | Profit: 12660\n",
      "Day: 13 | Profit: 13780\n",
      "Day: 14 | Profit: 14910\n",
      "Day: 15 | Profit: 16050\n",
      "Day: 16 | Profit: 17200\n",
      "Day: 17 | Profit: 18360\n",
      "Day: 18 | Profit: 19530\n",
      "Day: 19 | Profit: 20710\n",
      "Day: 20 | Profit: 21900\n",
      "Day: 21 | Profit: 23100\n",
      "Day: 22 | Profit: 24310\n",
      "Day: 23 | Profit: 25530\n",
      "Day: 24 | Profit: 26760\n",
      "Day: 25 | Profit: 28000\n",
      "Day: 26 | Profit: 29250\n",
      "Day: 27 | Profit: 30510\n",
      "Day: 28 | Profit: 31780\n",
      "Day: 29 | Profit: 33060\n",
      "Day: 30 | Profit: 34350\n",
      "Day: 31 | Profit: 35650\n",
      "Day: 32 | Profit: 36960\n",
      "Day: 33 | Profit: 38280\n",
      "Day: 34 | Profit: 39610\n",
      "Day: 35 | Profit: 40950\n",
      "Day: 36 | Profit: 42300\n",
      "Day: 37 | Profit: 43660\n",
      "Day: 38 | Profit: 45030\n",
      "Day: 39 | Profit: 46410\n",
      "Day: 40 | Profit: 47800\n",
      "Day: 41 | Profit: 49200\n",
      "Day: 42 | Profit: 50610\n",
      "Day: 43 | Profit: 52030\n",
      "Day: 44 | Profit: 53460\n",
      "Day: 45 | Profit: 54900\n",
      "Day: 46 | Profit: 56350\n",
      "Day: 47 | Profit: 57810\n",
      "Day: 48 | Profit: 59280\n",
      "Day: 49 | Profit: 60760\n",
      "Day: 50 | Profit: 62250\n",
      "Day: 51 | Profit: 63750\n",
      "Day: 52 | Profit: 65260\n",
      "Day: 53 | Profit: 66780\n",
      "Day: 54 | Profit: 68310\n",
      "Day: 55 | Profit: 69850\n",
      "Day: 56 | Profit: 71400\n",
      "Day: 57 | Profit: 72960\n",
      "Day: 58 | Profit: 74530\n",
      "Day: 59 | Profit: 76110\n",
      "Day: 60 | Profit: 77700\n",
      "Day: 61 | Profit: 79300\n",
      "Day: 62 | Profit: 80910\n",
      "Day: 63 | Profit: 82530\n",
      "Day: 64 | Profit: 84160\n",
      "Day: 65 | Profit: 85800\n",
      "Day: 66 | Profit: 87450\n",
      "Day: 67 | Profit: 89110\n",
      "Day: 68 | Profit: 90780\n",
      "Day: 69 | Profit: 92460\n",
      "Day: 70 | Profit: 94150\n",
      "Day: 71 | Profit: 95850\n",
      "Day: 72 | Profit: 97560\n",
      "Day: 73 | Profit: 99280\n",
      "74\n"
     ]
    }
   ],
   "source": [
    "# to use the trunc method\n",
    "import math\n",
    "import pandas as pd\n",
    "\n",
    "initial_customers = 100\n",
    "initial_investment = 100_000\n",
    "growth_rate = 0.01\n",
    "daily_customer_profits = 10\n",
    "customers = initial_customers\n",
    "profits = 0\n",
    "\n",
    "# first day profits\n",
    "profits = daily_customer_profits*customers\n",
    "days_past=1\n",
    "\n",
    "# print(customers*(2**growth_rate))\n",
    "# print(customers*(1+growth_rate)**2)\n",
    "    \n",
    "while(profits<=initial_investment):\n",
    "    customers = math.trunc(customers + (customers*growth_rate))\n",
    "    print(\"Day: \"+ str(days_past)+\" | Profit: \" + str(profits))\n",
    "    profits += customers*daily_customer_profits\n",
    "    days_past+=1\n",
    "        \n",
    "        \n",
    "print(days_past)\n",
    "\n",
    "# Give titles to graphs including legends\n"
   ]
  }
 ],
 "metadata": {
  "kernelspec": {
   "display_name": "Python 3",
   "language": "python",
   "name": "python3"
  },
  "language_info": {
   "codemirror_mode": {
    "name": "ipython",
    "version": 3
   },
   "file_extension": ".py",
   "mimetype": "text/x-python",
   "name": "python",
   "nbconvert_exporter": "python",
   "pygments_lexer": "ipython3",
   "version": "3.12.5"
  }
 },
 "nbformat": 4,
 "nbformat_minor": 2
}
